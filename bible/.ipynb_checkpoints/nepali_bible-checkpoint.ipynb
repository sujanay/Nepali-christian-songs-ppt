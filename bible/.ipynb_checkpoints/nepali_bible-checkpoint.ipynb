{
 "cells": [
  {
   "cell_type": "code",
   "execution_count": 86,
   "metadata": {},
   "outputs": [],
   "source": [
    "import re\n",
    "import pandas as pd\n",
    "import numpy as np\n",
    "pd.set_option(\"display.max_colwidth\", 800)"
   ]
  },
  {
   "cell_type": "code",
   "execution_count": 87,
   "metadata": {},
   "outputs": [],
   "source": [
    "df = pd.read_parquet(\"cleaned_bible_df.parquet\")"
   ]
  },
  {
   "cell_type": "code",
   "execution_count": 88,
   "metadata": {},
   "outputs": [
    {
     "data": {
      "text/html": [
       "<div>\n",
       "<style scoped>\n",
       "    .dataframe tbody tr th:only-of-type {\n",
       "        vertical-align: middle;\n",
       "    }\n",
       "\n",
       "    .dataframe tbody tr th {\n",
       "        vertical-align: top;\n",
       "    }\n",
       "\n",
       "    .dataframe thead th {\n",
       "        text-align: right;\n",
       "    }\n",
       "</style>\n",
       "<table border=\"1\" class=\"dataframe\">\n",
       "  <thead>\n",
       "    <tr style=\"text-align: right;\">\n",
       "      <th></th>\n",
       "      <th>book_chapter_verse</th>\n",
       "      <th>verse_text</th>\n",
       "    </tr>\n",
       "  </thead>\n",
       "  <tbody>\n",
       "    <tr>\n",
       "      <td>0</td>\n",
       "      <td>Gen1:1</td>\n",
       "      <td>&lt;H4&gt;सृष्टिको वर्णन&lt;/H4&gt;आदिमा परमेश्वरले आकाशमण्डल र पृथ्वी सृष्टि गर्नुभयो।\\n</td>\n",
       "    </tr>\n",
       "    <tr>\n",
       "      <td>1</td>\n",
       "      <td>Gen1:2</td>\n",
       "      <td>पृथ्वी आकारविनाको र शून्य थियो। अथाह समुद्रमाथि अन्धकार थियो, र परमेश्वरका आत्मा पानीमाथि परिभ्रमण गर्दैरहनुहुन्थ्यो।\\n</td>\n",
       "    </tr>\n",
       "    <tr>\n",
       "      <td>2</td>\n",
       "      <td>Gen1:3</td>\n",
       "      <td>अनि परमेश्वरले भन्नुभयो, “उज्यालो होस्।” तब उज्यालो भयो। &lt;span class=\"note\" title=\"२ कोर ४:६\"&gt; (note) &lt;/span&gt;\\n</td>\n",
       "    </tr>\n",
       "    <tr>\n",
       "      <td>3</td>\n",
       "      <td>Gen1:4</td>\n",
       "      <td>र परमेश्वरले उज्यालोलाई हेर्नुभयो, त्यो असल थियो। उहाँले उज्यालो र अँध्यारोलाई अलग-अलग गर्नुभयो।\\n</td>\n",
       "    </tr>\n",
       "    <tr>\n",
       "      <td>4</td>\n",
       "      <td>Gen1:5</td>\n",
       "      <td>परमेश्वरले उज्यालोलाई “दिन” र अँध्यारोलाई “रात” भन्नुभयो। साँझ पर्यो र बिहान भयो— पहिलो दिन।\\n</td>\n",
       "    </tr>\n",
       "  </tbody>\n",
       "</table>\n",
       "</div>"
      ],
      "text/plain": [
       "  book_chapter_verse  \\\n",
       "0             Gen1:1   \n",
       "1             Gen1:2   \n",
       "2             Gen1:3   \n",
       "3             Gen1:4   \n",
       "4             Gen1:5   \n",
       "\n",
       "                                                                                                                verse_text  \n",
       "0                                            <H4>सृष्टिको वर्णन</H4>आदिमा परमेश्वरले आकाशमण्डल र पृथ्वी सृष्टि गर्नुभयो।\\n  \n",
       "1  पृथ्वी आकारविनाको र शून्य थियो। अथाह समुद्रमाथि अन्धकार थियो, र परमेश्वरका आत्मा पानीमाथि परिभ्रमण गर्दैरहनुहुन्थ्यो।\\n  \n",
       "2          अनि परमेश्वरले भन्नुभयो, “उज्यालो होस्।” तब उज्यालो भयो। <span class=\"note\" title=\"२ कोर ४:६\"> (note) </span>\\n  \n",
       "3                       र परमेश्वरले उज्यालोलाई हेर्नुभयो, त्यो असल थियो। उहाँले उज्यालो र अँध्यारोलाई अलग-अलग गर्नुभयो।\\n  \n",
       "4                           परमेश्वरले उज्यालोलाई “दिन” र अँध्यारोलाई “रात” भन्नुभयो। साँझ पर्यो र बिहान भयो— पहिलो दिन।\\n  "
      ]
     },
     "execution_count": 88,
     "metadata": {},
     "output_type": "execute_result"
    }
   ],
   "source": [
    "df.head(5)"
   ]
  },
  {
   "cell_type": "code",
   "execution_count": 89,
   "metadata": {},
   "outputs": [],
   "source": [
    "def remove_html_tags(row):\n",
    "    row = re.sub(\"<H4>.*</H4>\", \"\", row)\n",
    "    row = re.sub(\"<span.*</span>\", \"\", row)\n",
    "#     row = re.sub('[”“]', \"'\", row)\n",
    "    row = re.sub(\"\\n\", \"\", row)\n",
    "    return row"
   ]
  },
  {
   "cell_type": "code",
   "execution_count": 90,
   "metadata": {},
   "outputs": [],
   "source": [
    "df['cleaned_verse_text'] = df['verse_text'].apply(lambda x: remove_html_tags(x))"
   ]
  },
  {
   "cell_type": "code",
   "execution_count": 91,
   "metadata": {},
   "outputs": [
    {
     "data": {
      "text/html": [
       "<div>\n",
       "<style scoped>\n",
       "    .dataframe tbody tr th:only-of-type {\n",
       "        vertical-align: middle;\n",
       "    }\n",
       "\n",
       "    .dataframe tbody tr th {\n",
       "        vertical-align: top;\n",
       "    }\n",
       "\n",
       "    .dataframe thead th {\n",
       "        text-align: right;\n",
       "    }\n",
       "</style>\n",
       "<table border=\"1\" class=\"dataframe\">\n",
       "  <thead>\n",
       "    <tr style=\"text-align: right;\">\n",
       "      <th></th>\n",
       "      <th>book_chapter_verse</th>\n",
       "      <th>verse_text</th>\n",
       "      <th>cleaned_verse_text</th>\n",
       "    </tr>\n",
       "  </thead>\n",
       "  <tbody>\n",
       "    <tr>\n",
       "      <td>0</td>\n",
       "      <td>Gen1:1</td>\n",
       "      <td>&lt;H4&gt;सृष्टिको वर्णन&lt;/H4&gt;आदिमा परमेश्वरले आकाशमण्डल र पृथ्वी सृष्टि गर्नुभयो।\\n</td>\n",
       "      <td>आदिमा परमेश्वरले आकाशमण्डल र पृथ्वी सृष्टि गर्नुभयो।</td>\n",
       "    </tr>\n",
       "    <tr>\n",
       "      <td>1</td>\n",
       "      <td>Gen1:2</td>\n",
       "      <td>पृथ्वी आकारविनाको र शून्य थियो। अथाह समुद्रमाथि अन्धकार थियो, र परमेश्वरका आत्मा पानीमाथि परिभ्रमण गर्दैरहनुहुन्थ्यो।\\n</td>\n",
       "      <td>पृथ्वी आकारविनाको र शून्य थियो। अथाह समुद्रमाथि अन्धकार थियो, र परमेश्वरका आत्मा पानीमाथि परिभ्रमण गर्दैरहनुहुन्थ्यो।</td>\n",
       "    </tr>\n",
       "    <tr>\n",
       "      <td>2</td>\n",
       "      <td>Gen1:3</td>\n",
       "      <td>अनि परमेश्वरले भन्नुभयो, “उज्यालो होस्।” तब उज्यालो भयो। &lt;span class=\"note\" title=\"२ कोर ४:६\"&gt; (note) &lt;/span&gt;\\n</td>\n",
       "      <td>अनि परमेश्वरले भन्नुभयो, “उज्यालो होस्।” तब उज्यालो भयो।</td>\n",
       "    </tr>\n",
       "    <tr>\n",
       "      <td>3</td>\n",
       "      <td>Gen1:4</td>\n",
       "      <td>र परमेश्वरले उज्यालोलाई हेर्नुभयो, त्यो असल थियो। उहाँले उज्यालो र अँध्यारोलाई अलग-अलग गर्नुभयो।\\n</td>\n",
       "      <td>र परमेश्वरले उज्यालोलाई हेर्नुभयो, त्यो असल थियो। उहाँले उज्यालो र अँध्यारोलाई अलग-अलग गर्नुभयो।</td>\n",
       "    </tr>\n",
       "    <tr>\n",
       "      <td>4</td>\n",
       "      <td>Gen1:5</td>\n",
       "      <td>परमेश्वरले उज्यालोलाई “दिन” र अँध्यारोलाई “रात” भन्नुभयो। साँझ पर्यो र बिहान भयो— पहिलो दिन।\\n</td>\n",
       "      <td>परमेश्वरले उज्यालोलाई “दिन” र अँध्यारोलाई “रात” भन्नुभयो। साँझ पर्यो र बिहान भयो— पहिलो दिन।</td>\n",
       "    </tr>\n",
       "  </tbody>\n",
       "</table>\n",
       "</div>"
      ],
      "text/plain": [
       "  book_chapter_verse  \\\n",
       "0             Gen1:1   \n",
       "1             Gen1:2   \n",
       "2             Gen1:3   \n",
       "3             Gen1:4   \n",
       "4             Gen1:5   \n",
       "\n",
       "                                                                                                                verse_text  \\\n",
       "0                                            <H4>सृष्टिको वर्णन</H4>आदिमा परमेश्वरले आकाशमण्डल र पृथ्वी सृष्टि गर्नुभयो।\\n   \n",
       "1  पृथ्वी आकारविनाको र शून्य थियो। अथाह समुद्रमाथि अन्धकार थियो, र परमेश्वरका आत्मा पानीमाथि परिभ्रमण गर्दैरहनुहुन्थ्यो।\\n   \n",
       "2          अनि परमेश्वरले भन्नुभयो, “उज्यालो होस्।” तब उज्यालो भयो। <span class=\"note\" title=\"२ कोर ४:६\"> (note) </span>\\n   \n",
       "3                       र परमेश्वरले उज्यालोलाई हेर्नुभयो, त्यो असल थियो। उहाँले उज्यालो र अँध्यारोलाई अलग-अलग गर्नुभयो।\\n   \n",
       "4                           परमेश्वरले उज्यालोलाई “दिन” र अँध्यारोलाई “रात” भन्नुभयो। साँझ पर्यो र बिहान भयो— पहिलो दिन।\\n   \n",
       "\n",
       "                                                                                                      cleaned_verse_text  \n",
       "0                                                                   आदिमा परमेश्वरले आकाशमण्डल र पृथ्वी सृष्टि गर्नुभयो।  \n",
       "1  पृथ्वी आकारविनाको र शून्य थियो। अथाह समुद्रमाथि अन्धकार थियो, र परमेश्वरका आत्मा पानीमाथि परिभ्रमण गर्दैरहनुहुन्थ्यो।  \n",
       "2                                                              अनि परमेश्वरले भन्नुभयो, “उज्यालो होस्।” तब उज्यालो भयो।   \n",
       "3                       र परमेश्वरले उज्यालोलाई हेर्नुभयो, त्यो असल थियो। उहाँले उज्यालो र अँध्यारोलाई अलग-अलग गर्नुभयो।  \n",
       "4                           परमेश्वरले उज्यालोलाई “दिन” र अँध्यारोलाई “रात” भन्नुभयो। साँझ पर्यो र बिहान भयो— पहिलो दिन।  "
      ]
     },
     "execution_count": 91,
     "metadata": {},
     "output_type": "execute_result"
    }
   ],
   "source": [
    "df.head(5)"
   ]
  },
  {
   "cell_type": "code",
   "execution_count": 92,
   "metadata": {},
   "outputs": [],
   "source": [
    "df['verse'] = df['book_chapter_verse'].apply(lambda x: x.split(':')[-1])\n",
    "df['book_chapter'] = df['book_chapter_verse'].apply(lambda x: x.split(':')[0])"
   ]
  },
  {
   "cell_type": "code",
   "execution_count": 93,
   "metadata": {},
   "outputs": [
    {
     "data": {
      "text/html": [
       "<div>\n",
       "<style scoped>\n",
       "    .dataframe tbody tr th:only-of-type {\n",
       "        vertical-align: middle;\n",
       "    }\n",
       "\n",
       "    .dataframe tbody tr th {\n",
       "        vertical-align: top;\n",
       "    }\n",
       "\n",
       "    .dataframe thead th {\n",
       "        text-align: right;\n",
       "    }\n",
       "</style>\n",
       "<table border=\"1\" class=\"dataframe\">\n",
       "  <thead>\n",
       "    <tr style=\"text-align: right;\">\n",
       "      <th></th>\n",
       "      <th>book_chapter_verse</th>\n",
       "      <th>verse_text</th>\n",
       "      <th>cleaned_verse_text</th>\n",
       "      <th>verse</th>\n",
       "      <th>book_chapter</th>\n",
       "    </tr>\n",
       "  </thead>\n",
       "  <tbody>\n",
       "    <tr>\n",
       "      <td>0</td>\n",
       "      <td>Gen1:1</td>\n",
       "      <td>&lt;H4&gt;सृष्टिको वर्णन&lt;/H4&gt;आदिमा परमेश्वरले आकाशमण्डल र पृथ्वी सृष्टि गर्नुभयो।\\n</td>\n",
       "      <td>आदिमा परमेश्वरले आकाशमण्डल र पृथ्वी सृष्टि गर्नुभयो।</td>\n",
       "      <td>1</td>\n",
       "      <td>Gen1</td>\n",
       "    </tr>\n",
       "    <tr>\n",
       "      <td>1</td>\n",
       "      <td>Gen1:2</td>\n",
       "      <td>पृथ्वी आकारविनाको र शून्य थियो। अथाह समुद्रमाथि अन्धकार थियो, र परमेश्वरका आत्मा पानीमाथि परिभ्रमण गर्दैरहनुहुन्थ्यो।\\n</td>\n",
       "      <td>पृथ्वी आकारविनाको र शून्य थियो। अथाह समुद्रमाथि अन्धकार थियो, र परमेश्वरका आत्मा पानीमाथि परिभ्रमण गर्दैरहनुहुन्थ्यो।</td>\n",
       "      <td>2</td>\n",
       "      <td>Gen1</td>\n",
       "    </tr>\n",
       "    <tr>\n",
       "      <td>2</td>\n",
       "      <td>Gen1:3</td>\n",
       "      <td>अनि परमेश्वरले भन्नुभयो, “उज्यालो होस्।” तब उज्यालो भयो। &lt;span class=\"note\" title=\"२ कोर ४:६\"&gt; (note) &lt;/span&gt;\\n</td>\n",
       "      <td>अनि परमेश्वरले भन्नुभयो, “उज्यालो होस्।” तब उज्यालो भयो।</td>\n",
       "      <td>3</td>\n",
       "      <td>Gen1</td>\n",
       "    </tr>\n",
       "    <tr>\n",
       "      <td>3</td>\n",
       "      <td>Gen1:4</td>\n",
       "      <td>र परमेश्वरले उज्यालोलाई हेर्नुभयो, त्यो असल थियो। उहाँले उज्यालो र अँध्यारोलाई अलग-अलग गर्नुभयो।\\n</td>\n",
       "      <td>र परमेश्वरले उज्यालोलाई हेर्नुभयो, त्यो असल थियो। उहाँले उज्यालो र अँध्यारोलाई अलग-अलग गर्नुभयो।</td>\n",
       "      <td>4</td>\n",
       "      <td>Gen1</td>\n",
       "    </tr>\n",
       "    <tr>\n",
       "      <td>4</td>\n",
       "      <td>Gen1:5</td>\n",
       "      <td>परमेश्वरले उज्यालोलाई “दिन” र अँध्यारोलाई “रात” भन्नुभयो। साँझ पर्यो र बिहान भयो— पहिलो दिन।\\n</td>\n",
       "      <td>परमेश्वरले उज्यालोलाई “दिन” र अँध्यारोलाई “रात” भन्नुभयो। साँझ पर्यो र बिहान भयो— पहिलो दिन।</td>\n",
       "      <td>5</td>\n",
       "      <td>Gen1</td>\n",
       "    </tr>\n",
       "  </tbody>\n",
       "</table>\n",
       "</div>"
      ],
      "text/plain": [
       "  book_chapter_verse  \\\n",
       "0             Gen1:1   \n",
       "1             Gen1:2   \n",
       "2             Gen1:3   \n",
       "3             Gen1:4   \n",
       "4             Gen1:5   \n",
       "\n",
       "                                                                                                                verse_text  \\\n",
       "0                                            <H4>सृष्टिको वर्णन</H4>आदिमा परमेश्वरले आकाशमण्डल र पृथ्वी सृष्टि गर्नुभयो।\\n   \n",
       "1  पृथ्वी आकारविनाको र शून्य थियो। अथाह समुद्रमाथि अन्धकार थियो, र परमेश्वरका आत्मा पानीमाथि परिभ्रमण गर्दैरहनुहुन्थ्यो।\\n   \n",
       "2          अनि परमेश्वरले भन्नुभयो, “उज्यालो होस्।” तब उज्यालो भयो। <span class=\"note\" title=\"२ कोर ४:६\"> (note) </span>\\n   \n",
       "3                       र परमेश्वरले उज्यालोलाई हेर्नुभयो, त्यो असल थियो। उहाँले उज्यालो र अँध्यारोलाई अलग-अलग गर्नुभयो।\\n   \n",
       "4                           परमेश्वरले उज्यालोलाई “दिन” र अँध्यारोलाई “रात” भन्नुभयो। साँझ पर्यो र बिहान भयो— पहिलो दिन।\\n   \n",
       "\n",
       "                                                                                                      cleaned_verse_text  \\\n",
       "0                                                                   आदिमा परमेश्वरले आकाशमण्डल र पृथ्वी सृष्टि गर्नुभयो।   \n",
       "1  पृथ्वी आकारविनाको र शून्य थियो। अथाह समुद्रमाथि अन्धकार थियो, र परमेश्वरका आत्मा पानीमाथि परिभ्रमण गर्दैरहनुहुन्थ्यो।   \n",
       "2                                                              अनि परमेश्वरले भन्नुभयो, “उज्यालो होस्।” तब उज्यालो भयो।    \n",
       "3                       र परमेश्वरले उज्यालोलाई हेर्नुभयो, त्यो असल थियो। उहाँले उज्यालो र अँध्यारोलाई अलग-अलग गर्नुभयो।   \n",
       "4                           परमेश्वरले उज्यालोलाई “दिन” र अँध्यारोलाई “रात” भन्नुभयो। साँझ पर्यो र बिहान भयो— पहिलो दिन।   \n",
       "\n",
       "  verse book_chapter  \n",
       "0     1         Gen1  \n",
       "1     2         Gen1  \n",
       "2     3         Gen1  \n",
       "3     4         Gen1  \n",
       "4     5         Gen1  "
      ]
     },
     "execution_count": 93,
     "metadata": {},
     "output_type": "execute_result"
    }
   ],
   "source": [
    "df.head(5)"
   ]
  },
  {
   "cell_type": "code",
   "execution_count": 94,
   "metadata": {},
   "outputs": [],
   "source": [
    "def chapter_extractor(row):\n",
    "    \"\"\"This function returns ('Gen', '1') if book_chapter is \"Gen1\".\n",
    "    \"\"\"\n",
    "    digits = list(\"0123456789\") # digits = ['0', '1', '2', ..., '9']\n",
    "    \n",
    "    if row[-2] not in digits: \n",
    "        return (row[:-1], row[-1])\n",
    "    elif row[-3] not in digits:\n",
    "        return (row[:-2], row[-2:])\n",
    "    elif row[-4] not in digits:\n",
    "        return (row[:-3], row[-3:])\n",
    "    else:\n",
    "        return (np.pan, np.nan)"
   ]
  },
  {
   "cell_type": "code",
   "execution_count": 95,
   "metadata": {},
   "outputs": [],
   "source": [
    "df['book_chapter'] = df['book_chapter'].apply(lambda x: chapter_extractor(x))\n",
    "df['book'] = df['book_chapter'].apply(lambda x: x[0])\n",
    "df['chapter'] = df['book_chapter'].apply(lambda x: x[1])"
   ]
  },
  {
   "cell_type": "code",
   "execution_count": 96,
   "metadata": {},
   "outputs": [
    {
     "data": {
      "text/html": [
       "<div>\n",
       "<style scoped>\n",
       "    .dataframe tbody tr th:only-of-type {\n",
       "        vertical-align: middle;\n",
       "    }\n",
       "\n",
       "    .dataframe tbody tr th {\n",
       "        vertical-align: top;\n",
       "    }\n",
       "\n",
       "    .dataframe thead th {\n",
       "        text-align: right;\n",
       "    }\n",
       "</style>\n",
       "<table border=\"1\" class=\"dataframe\">\n",
       "  <thead>\n",
       "    <tr style=\"text-align: right;\">\n",
       "      <th></th>\n",
       "      <th>book_chapter_verse</th>\n",
       "      <th>verse_text</th>\n",
       "      <th>cleaned_verse_text</th>\n",
       "      <th>verse</th>\n",
       "      <th>book_chapter</th>\n",
       "      <th>book</th>\n",
       "      <th>chapter</th>\n",
       "    </tr>\n",
       "  </thead>\n",
       "  <tbody>\n",
       "    <tr>\n",
       "      <td>0</td>\n",
       "      <td>Gen1:1</td>\n",
       "      <td>&lt;H4&gt;सृष्टिको वर्णन&lt;/H4&gt;आदिमा परमेश्वरले आकाशमण्डल र पृथ्वी सृष्टि गर्नुभयो।\\n</td>\n",
       "      <td>आदिमा परमेश्वरले आकाशमण्डल र पृथ्वी सृष्टि गर्नुभयो।</td>\n",
       "      <td>1</td>\n",
       "      <td>(Gen, 1)</td>\n",
       "      <td>Gen</td>\n",
       "      <td>1</td>\n",
       "    </tr>\n",
       "    <tr>\n",
       "      <td>1</td>\n",
       "      <td>Gen1:2</td>\n",
       "      <td>पृथ्वी आकारविनाको र शून्य थियो। अथाह समुद्रमाथि अन्धकार थियो, र परमेश्वरका आत्मा पानीमाथि परिभ्रमण गर्दैरहनुहुन्थ्यो।\\n</td>\n",
       "      <td>पृथ्वी आकारविनाको र शून्य थियो। अथाह समुद्रमाथि अन्धकार थियो, र परमेश्वरका आत्मा पानीमाथि परिभ्रमण गर्दैरहनुहुन्थ्यो।</td>\n",
       "      <td>2</td>\n",
       "      <td>(Gen, 1)</td>\n",
       "      <td>Gen</td>\n",
       "      <td>1</td>\n",
       "    </tr>\n",
       "    <tr>\n",
       "      <td>2</td>\n",
       "      <td>Gen1:3</td>\n",
       "      <td>अनि परमेश्वरले भन्नुभयो, “उज्यालो होस्।” तब उज्यालो भयो। &lt;span class=\"note\" title=\"२ कोर ४:६\"&gt; (note) &lt;/span&gt;\\n</td>\n",
       "      <td>अनि परमेश्वरले भन्नुभयो, “उज्यालो होस्।” तब उज्यालो भयो।</td>\n",
       "      <td>3</td>\n",
       "      <td>(Gen, 1)</td>\n",
       "      <td>Gen</td>\n",
       "      <td>1</td>\n",
       "    </tr>\n",
       "    <tr>\n",
       "      <td>3</td>\n",
       "      <td>Gen1:4</td>\n",
       "      <td>र परमेश्वरले उज्यालोलाई हेर्नुभयो, त्यो असल थियो। उहाँले उज्यालो र अँध्यारोलाई अलग-अलग गर्नुभयो।\\n</td>\n",
       "      <td>र परमेश्वरले उज्यालोलाई हेर्नुभयो, त्यो असल थियो। उहाँले उज्यालो र अँध्यारोलाई अलग-अलग गर्नुभयो।</td>\n",
       "      <td>4</td>\n",
       "      <td>(Gen, 1)</td>\n",
       "      <td>Gen</td>\n",
       "      <td>1</td>\n",
       "    </tr>\n",
       "    <tr>\n",
       "      <td>4</td>\n",
       "      <td>Gen1:5</td>\n",
       "      <td>परमेश्वरले उज्यालोलाई “दिन” र अँध्यारोलाई “रात” भन्नुभयो। साँझ पर्यो र बिहान भयो— पहिलो दिन।\\n</td>\n",
       "      <td>परमेश्वरले उज्यालोलाई “दिन” र अँध्यारोलाई “रात” भन्नुभयो। साँझ पर्यो र बिहान भयो— पहिलो दिन।</td>\n",
       "      <td>5</td>\n",
       "      <td>(Gen, 1)</td>\n",
       "      <td>Gen</td>\n",
       "      <td>1</td>\n",
       "    </tr>\n",
       "  </tbody>\n",
       "</table>\n",
       "</div>"
      ],
      "text/plain": [
       "  book_chapter_verse  \\\n",
       "0             Gen1:1   \n",
       "1             Gen1:2   \n",
       "2             Gen1:3   \n",
       "3             Gen1:4   \n",
       "4             Gen1:5   \n",
       "\n",
       "                                                                                                                verse_text  \\\n",
       "0                                            <H4>सृष्टिको वर्णन</H4>आदिमा परमेश्वरले आकाशमण्डल र पृथ्वी सृष्टि गर्नुभयो।\\n   \n",
       "1  पृथ्वी आकारविनाको र शून्य थियो। अथाह समुद्रमाथि अन्धकार थियो, र परमेश्वरका आत्मा पानीमाथि परिभ्रमण गर्दैरहनुहुन्थ्यो।\\n   \n",
       "2          अनि परमेश्वरले भन्नुभयो, “उज्यालो होस्।” तब उज्यालो भयो। <span class=\"note\" title=\"२ कोर ४:६\"> (note) </span>\\n   \n",
       "3                       र परमेश्वरले उज्यालोलाई हेर्नुभयो, त्यो असल थियो। उहाँले उज्यालो र अँध्यारोलाई अलग-अलग गर्नुभयो।\\n   \n",
       "4                           परमेश्वरले उज्यालोलाई “दिन” र अँध्यारोलाई “रात” भन्नुभयो। साँझ पर्यो र बिहान भयो— पहिलो दिन।\\n   \n",
       "\n",
       "                                                                                                      cleaned_verse_text  \\\n",
       "0                                                                   आदिमा परमेश्वरले आकाशमण्डल र पृथ्वी सृष्टि गर्नुभयो।   \n",
       "1  पृथ्वी आकारविनाको र शून्य थियो। अथाह समुद्रमाथि अन्धकार थियो, र परमेश्वरका आत्मा पानीमाथि परिभ्रमण गर्दैरहनुहुन्थ्यो।   \n",
       "2                                                              अनि परमेश्वरले भन्नुभयो, “उज्यालो होस्।” तब उज्यालो भयो।    \n",
       "3                       र परमेश्वरले उज्यालोलाई हेर्नुभयो, त्यो असल थियो। उहाँले उज्यालो र अँध्यारोलाई अलग-अलग गर्नुभयो।   \n",
       "4                           परमेश्वरले उज्यालोलाई “दिन” र अँध्यारोलाई “रात” भन्नुभयो। साँझ पर्यो र बिहान भयो— पहिलो दिन।   \n",
       "\n",
       "  verse book_chapter book chapter  \n",
       "0     1     (Gen, 1)  Gen       1  \n",
       "1     2     (Gen, 1)  Gen       1  \n",
       "2     3     (Gen, 1)  Gen       1  \n",
       "3     4     (Gen, 1)  Gen       1  \n",
       "4     5     (Gen, 1)  Gen       1  "
      ]
     },
     "execution_count": 96,
     "metadata": {},
     "output_type": "execute_result"
    }
   ],
   "source": [
    "df.head(5)"
   ]
  },
  {
   "cell_type": "code",
   "execution_count": 97,
   "metadata": {},
   "outputs": [
    {
     "data": {
      "text/plain": [
       "array(['Gen', 'Exo', 'Lev', 'Num', 'Deu', 'Jos', 'Jug', 'Rut', '1Sa',\n",
       "       '2Sa', '1Ki', '2Ki', '1Ch', '2Ch', 'Ezr', 'Neh', 'Est', 'Job',\n",
       "       'Psm', 'Pro', 'Ecc', 'Son', 'Isa', 'Jer', 'Lam', 'Eze', 'Dan',\n",
       "       'Hos', 'Joe', 'Amo', 'Oba', 'Jon', 'Mic', 'Nah', 'Hab', 'Zep',\n",
       "       'Hag', 'Zec', 'Mal', 'Mat', 'Mak', 'Luk', 'Jhn', 'Act', 'Rom',\n",
       "       '1Co', '2Co', 'Gal', 'Eph', 'Phl', 'Col', '1Ts', '2Ts', '1Ti',\n",
       "       '2Ti', 'Tit', 'Mon', 'Heb', 'Jas', '1Pe', '2Pe', '1Jn', '2Jn',\n",
       "       '3Jn', 'Jud', 'Rev'], dtype=object)"
      ]
     },
     "execution_count": 97,
     "metadata": {},
     "output_type": "execute_result"
    }
   ],
   "source": [
    "df['book'].unique()"
   ]
  },
  {
   "cell_type": "code",
   "execution_count": 98,
   "metadata": {},
   "outputs": [],
   "source": [
    "bible_abbr_df = pd.read_csv(\"bible_abbreviations_final.csv\")"
   ]
  },
  {
   "cell_type": "code",
   "execution_count": 99,
   "metadata": {
    "scrolled": true
   },
   "outputs": [
    {
     "data": {
      "text/html": [
       "<div>\n",
       "<style scoped>\n",
       "    .dataframe tbody tr th:only-of-type {\n",
       "        vertical-align: middle;\n",
       "    }\n",
       "\n",
       "    .dataframe tbody tr th {\n",
       "        vertical-align: top;\n",
       "    }\n",
       "\n",
       "    .dataframe thead th {\n",
       "        text-align: right;\n",
       "    }\n",
       "</style>\n",
       "<table border=\"1\" class=\"dataframe\">\n",
       "  <thead>\n",
       "    <tr style=\"text-align: right;\">\n",
       "      <th></th>\n",
       "      <th>book_id</th>\n",
       "      <th>testament_id</th>\n",
       "      <th>book_name</th>\n",
       "      <th>book_abbreviation</th>\n",
       "    </tr>\n",
       "  </thead>\n",
       "  <tbody>\n",
       "    <tr>\n",
       "      <td>0</td>\n",
       "      <td>1</td>\n",
       "      <td>1</td>\n",
       "      <td>Genesis</td>\n",
       "      <td>Gen</td>\n",
       "    </tr>\n",
       "    <tr>\n",
       "      <td>1</td>\n",
       "      <td>2</td>\n",
       "      <td>1</td>\n",
       "      <td>Exodus</td>\n",
       "      <td>Ex</td>\n",
       "    </tr>\n",
       "    <tr>\n",
       "      <td>2</td>\n",
       "      <td>3</td>\n",
       "      <td>1</td>\n",
       "      <td>Leviticus</td>\n",
       "      <td>Lev</td>\n",
       "    </tr>\n",
       "    <tr>\n",
       "      <td>3</td>\n",
       "      <td>4</td>\n",
       "      <td>1</td>\n",
       "      <td>Numbers</td>\n",
       "      <td>Num</td>\n",
       "    </tr>\n",
       "  </tbody>\n",
       "</table>\n",
       "</div>"
      ],
      "text/plain": [
       "   book_id  testament_id  book_name book_abbreviation\n",
       "0        1             1    Genesis               Gen\n",
       "1        2             1     Exodus                Ex\n",
       "2        3             1  Leviticus               Lev\n",
       "3        4             1    Numbers               Num"
      ]
     },
     "execution_count": 99,
     "metadata": {},
     "output_type": "execute_result"
    }
   ],
   "source": [
    "bible_abbr_df.head(4)"
   ]
  },
  {
   "cell_type": "code",
   "execution_count": 100,
   "metadata": {},
   "outputs": [],
   "source": [
    "abbr_books_list = list(bible_abbr_df['book_abbreviation'].unique())\n",
    "full_books_list = list(bible_abbr_df['book_name'].unique())\n",
    "db_books_list = list(df['book'].unique())"
   ]
  },
  {
   "cell_type": "code",
   "execution_count": 101,
   "metadata": {},
   "outputs": [],
   "source": [
    "books_abbr_mapping = pd.DataFrame({\n",
    "    \"abbr_books_format\": abbr_books_list,\n",
    "    \"abbr_df_format\": db_books_list,\n",
    "    \"full_book_name\": full_books_list\n",
    "})"
   ]
  },
  {
   "cell_type": "code",
   "execution_count": 102,
   "metadata": {},
   "outputs": [],
   "source": [
    "books_abbr_mapping = books_abbr_mapping.set_index(pd.Index(list(range(1, 67)))).reset_index()"
   ]
  },
  {
   "cell_type": "code",
   "execution_count": 103,
   "metadata": {},
   "outputs": [
    {
     "data": {
      "text/html": [
       "<div>\n",
       "<style scoped>\n",
       "    .dataframe tbody tr th:only-of-type {\n",
       "        vertical-align: middle;\n",
       "    }\n",
       "\n",
       "    .dataframe tbody tr th {\n",
       "        vertical-align: top;\n",
       "    }\n",
       "\n",
       "    .dataframe thead th {\n",
       "        text-align: right;\n",
       "    }\n",
       "</style>\n",
       "<table border=\"1\" class=\"dataframe\">\n",
       "  <thead>\n",
       "    <tr style=\"text-align: right;\">\n",
       "      <th></th>\n",
       "      <th>index</th>\n",
       "      <th>abbr_books_format</th>\n",
       "      <th>abbr_df_format</th>\n",
       "      <th>full_book_name</th>\n",
       "    </tr>\n",
       "  </thead>\n",
       "  <tbody>\n",
       "    <tr>\n",
       "      <td>0</td>\n",
       "      <td>1</td>\n",
       "      <td>Gen</td>\n",
       "      <td>Gen</td>\n",
       "      <td>Genesis</td>\n",
       "    </tr>\n",
       "    <tr>\n",
       "      <td>1</td>\n",
       "      <td>2</td>\n",
       "      <td>Ex</td>\n",
       "      <td>Exo</td>\n",
       "      <td>Exodus</td>\n",
       "    </tr>\n",
       "    <tr>\n",
       "      <td>2</td>\n",
       "      <td>3</td>\n",
       "      <td>Lev</td>\n",
       "      <td>Lev</td>\n",
       "      <td>Leviticus</td>\n",
       "    </tr>\n",
       "    <tr>\n",
       "      <td>3</td>\n",
       "      <td>4</td>\n",
       "      <td>Num</td>\n",
       "      <td>Num</td>\n",
       "      <td>Numbers</td>\n",
       "    </tr>\n",
       "    <tr>\n",
       "      <td>4</td>\n",
       "      <td>5</td>\n",
       "      <td>Deut</td>\n",
       "      <td>Deu</td>\n",
       "      <td>Deuteronomy</td>\n",
       "    </tr>\n",
       "  </tbody>\n",
       "</table>\n",
       "</div>"
      ],
      "text/plain": [
       "   index abbr_books_format abbr_df_format full_book_name\n",
       "0      1               Gen            Gen        Genesis\n",
       "1      2                Ex            Exo         Exodus\n",
       "2      3               Lev            Lev      Leviticus\n",
       "3      4               Num            Num        Numbers\n",
       "4      5              Deut            Deu    Deuteronomy"
      ]
     },
     "execution_count": 103,
     "metadata": {},
     "output_type": "execute_result"
    }
   ],
   "source": [
    "books_abbr_mapping.head(5)"
   ]
  },
  {
   "cell_type": "code",
   "execution_count": 104,
   "metadata": {},
   "outputs": [
    {
     "data": {
      "text/html": [
       "<div>\n",
       "<style scoped>\n",
       "    .dataframe tbody tr th:only-of-type {\n",
       "        vertical-align: middle;\n",
       "    }\n",
       "\n",
       "    .dataframe tbody tr th {\n",
       "        vertical-align: top;\n",
       "    }\n",
       "\n",
       "    .dataframe thead th {\n",
       "        text-align: right;\n",
       "    }\n",
       "</style>\n",
       "<table border=\"1\" class=\"dataframe\">\n",
       "  <thead>\n",
       "    <tr style=\"text-align: right;\">\n",
       "      <th></th>\n",
       "      <th>book_chapter_verse</th>\n",
       "      <th>verse_text</th>\n",
       "      <th>cleaned_verse_text</th>\n",
       "      <th>verse</th>\n",
       "      <th>book_chapter</th>\n",
       "      <th>book</th>\n",
       "      <th>chapter</th>\n",
       "    </tr>\n",
       "  </thead>\n",
       "  <tbody>\n",
       "    <tr>\n",
       "      <td>0</td>\n",
       "      <td>Gen1:1</td>\n",
       "      <td>&lt;H4&gt;सृष्टिको वर्णन&lt;/H4&gt;आदिमा परमेश्वरले आकाशमण्डल र पृथ्वी सृष्टि गर्नुभयो।\\n</td>\n",
       "      <td>आदिमा परमेश्वरले आकाशमण्डल र पृथ्वी सृष्टि गर्नुभयो।</td>\n",
       "      <td>1</td>\n",
       "      <td>(Gen, 1)</td>\n",
       "      <td>Gen</td>\n",
       "      <td>1</td>\n",
       "    </tr>\n",
       "    <tr>\n",
       "      <td>1</td>\n",
       "      <td>Gen1:2</td>\n",
       "      <td>पृथ्वी आकारविनाको र शून्य थियो। अथाह समुद्रमाथि अन्धकार थियो, र परमेश्वरका आत्मा पानीमाथि परिभ्रमण गर्दैरहनुहुन्थ्यो।\\n</td>\n",
       "      <td>पृथ्वी आकारविनाको र शून्य थियो। अथाह समुद्रमाथि अन्धकार थियो, र परमेश्वरका आत्मा पानीमाथि परिभ्रमण गर्दैरहनुहुन्थ्यो।</td>\n",
       "      <td>2</td>\n",
       "      <td>(Gen, 1)</td>\n",
       "      <td>Gen</td>\n",
       "      <td>1</td>\n",
       "    </tr>\n",
       "    <tr>\n",
       "      <td>2</td>\n",
       "      <td>Gen1:3</td>\n",
       "      <td>अनि परमेश्वरले भन्नुभयो, “उज्यालो होस्।” तब उज्यालो भयो। &lt;span class=\"note\" title=\"२ कोर ४:६\"&gt; (note) &lt;/span&gt;\\n</td>\n",
       "      <td>अनि परमेश्वरले भन्नुभयो, “उज्यालो होस्।” तब उज्यालो भयो।</td>\n",
       "      <td>3</td>\n",
       "      <td>(Gen, 1)</td>\n",
       "      <td>Gen</td>\n",
       "      <td>1</td>\n",
       "    </tr>\n",
       "    <tr>\n",
       "      <td>3</td>\n",
       "      <td>Gen1:4</td>\n",
       "      <td>र परमेश्वरले उज्यालोलाई हेर्नुभयो, त्यो असल थियो। उहाँले उज्यालो र अँध्यारोलाई अलग-अलग गर्नुभयो।\\n</td>\n",
       "      <td>र परमेश्वरले उज्यालोलाई हेर्नुभयो, त्यो असल थियो। उहाँले उज्यालो र अँध्यारोलाई अलग-अलग गर्नुभयो।</td>\n",
       "      <td>4</td>\n",
       "      <td>(Gen, 1)</td>\n",
       "      <td>Gen</td>\n",
       "      <td>1</td>\n",
       "    </tr>\n",
       "    <tr>\n",
       "      <td>4</td>\n",
       "      <td>Gen1:5</td>\n",
       "      <td>परमेश्वरले उज्यालोलाई “दिन” र अँध्यारोलाई “रात” भन्नुभयो। साँझ पर्यो र बिहान भयो— पहिलो दिन।\\n</td>\n",
       "      <td>परमेश्वरले उज्यालोलाई “दिन” र अँध्यारोलाई “रात” भन्नुभयो। साँझ पर्यो र बिहान भयो— पहिलो दिन।</td>\n",
       "      <td>5</td>\n",
       "      <td>(Gen, 1)</td>\n",
       "      <td>Gen</td>\n",
       "      <td>1</td>\n",
       "    </tr>\n",
       "  </tbody>\n",
       "</table>\n",
       "</div>"
      ],
      "text/plain": [
       "  book_chapter_verse  \\\n",
       "0             Gen1:1   \n",
       "1             Gen1:2   \n",
       "2             Gen1:3   \n",
       "3             Gen1:4   \n",
       "4             Gen1:5   \n",
       "\n",
       "                                                                                                                verse_text  \\\n",
       "0                                            <H4>सृष्टिको वर्णन</H4>आदिमा परमेश्वरले आकाशमण्डल र पृथ्वी सृष्टि गर्नुभयो।\\n   \n",
       "1  पृथ्वी आकारविनाको र शून्य थियो। अथाह समुद्रमाथि अन्धकार थियो, र परमेश्वरका आत्मा पानीमाथि परिभ्रमण गर्दैरहनुहुन्थ्यो।\\n   \n",
       "2          अनि परमेश्वरले भन्नुभयो, “उज्यालो होस्।” तब उज्यालो भयो। <span class=\"note\" title=\"२ कोर ४:६\"> (note) </span>\\n   \n",
       "3                       र परमेश्वरले उज्यालोलाई हेर्नुभयो, त्यो असल थियो। उहाँले उज्यालो र अँध्यारोलाई अलग-अलग गर्नुभयो।\\n   \n",
       "4                           परमेश्वरले उज्यालोलाई “दिन” र अँध्यारोलाई “रात” भन्नुभयो। साँझ पर्यो र बिहान भयो— पहिलो दिन।\\n   \n",
       "\n",
       "                                                                                                      cleaned_verse_text  \\\n",
       "0                                                                   आदिमा परमेश्वरले आकाशमण्डल र पृथ्वी सृष्टि गर्नुभयो।   \n",
       "1  पृथ्वी आकारविनाको र शून्य थियो। अथाह समुद्रमाथि अन्धकार थियो, र परमेश्वरका आत्मा पानीमाथि परिभ्रमण गर्दैरहनुहुन्थ्यो।   \n",
       "2                                                              अनि परमेश्वरले भन्नुभयो, “उज्यालो होस्।” तब उज्यालो भयो।    \n",
       "3                       र परमेश्वरले उज्यालोलाई हेर्नुभयो, त्यो असल थियो। उहाँले उज्यालो र अँध्यारोलाई अलग-अलग गर्नुभयो।   \n",
       "4                           परमेश्वरले उज्यालोलाई “दिन” र अँध्यारोलाई “रात” भन्नुभयो। साँझ पर्यो र बिहान भयो— पहिलो दिन।   \n",
       "\n",
       "  verse book_chapter book chapter  \n",
       "0     1     (Gen, 1)  Gen       1  \n",
       "1     2     (Gen, 1)  Gen       1  \n",
       "2     3     (Gen, 1)  Gen       1  \n",
       "3     4     (Gen, 1)  Gen       1  \n",
       "4     5     (Gen, 1)  Gen       1  "
      ]
     },
     "execution_count": 104,
     "metadata": {},
     "output_type": "execute_result"
    }
   ],
   "source": [
    "df.head(5)"
   ]
  },
  {
   "cell_type": "code",
   "execution_count": 105,
   "metadata": {},
   "outputs": [],
   "source": [
    "df = df.merge(books_abbr_mapping[['abbr_df_format', 'full_book_name', 'index']], left_on=\"book\", right_on=\"abbr_df_format\")"
   ]
  },
  {
   "cell_type": "code",
   "execution_count": 106,
   "metadata": {
    "scrolled": false
   },
   "outputs": [
    {
     "data": {
      "text/html": [
       "<div>\n",
       "<style scoped>\n",
       "    .dataframe tbody tr th:only-of-type {\n",
       "        vertical-align: middle;\n",
       "    }\n",
       "\n",
       "    .dataframe tbody tr th {\n",
       "        vertical-align: top;\n",
       "    }\n",
       "\n",
       "    .dataframe thead th {\n",
       "        text-align: right;\n",
       "    }\n",
       "</style>\n",
       "<table border=\"1\" class=\"dataframe\">\n",
       "  <thead>\n",
       "    <tr style=\"text-align: right;\">\n",
       "      <th></th>\n",
       "      <th>book_chapter_verse</th>\n",
       "      <th>verse_text</th>\n",
       "      <th>cleaned_verse_text</th>\n",
       "      <th>verse</th>\n",
       "      <th>book_chapter</th>\n",
       "      <th>book</th>\n",
       "      <th>chapter</th>\n",
       "      <th>abbr_df_format</th>\n",
       "      <th>full_book_name</th>\n",
       "      <th>index</th>\n",
       "    </tr>\n",
       "  </thead>\n",
       "  <tbody>\n",
       "    <tr>\n",
       "      <td>0</td>\n",
       "      <td>Gen1:1</td>\n",
       "      <td>&lt;H4&gt;सृष्टिको वर्णन&lt;/H4&gt;आदिमा परमेश्वरले आकाशमण्डल र पृथ्वी सृष्टि गर्नुभयो।\\n</td>\n",
       "      <td>आदिमा परमेश्वरले आकाशमण्डल र पृथ्वी सृष्टि गर्नुभयो।</td>\n",
       "      <td>1</td>\n",
       "      <td>(Gen, 1)</td>\n",
       "      <td>Gen</td>\n",
       "      <td>1</td>\n",
       "      <td>Gen</td>\n",
       "      <td>Genesis</td>\n",
       "      <td>1</td>\n",
       "    </tr>\n",
       "    <tr>\n",
       "      <td>1</td>\n",
       "      <td>Gen1:2</td>\n",
       "      <td>पृथ्वी आकारविनाको र शून्य थियो। अथाह समुद्रमाथि अन्धकार थियो, र परमेश्वरका आत्मा पानीमाथि परिभ्रमण गर्दैरहनुहुन्थ्यो।\\n</td>\n",
       "      <td>पृथ्वी आकारविनाको र शून्य थियो। अथाह समुद्रमाथि अन्धकार थियो, र परमेश्वरका आत्मा पानीमाथि परिभ्रमण गर्दैरहनुहुन्थ्यो।</td>\n",
       "      <td>2</td>\n",
       "      <td>(Gen, 1)</td>\n",
       "      <td>Gen</td>\n",
       "      <td>1</td>\n",
       "      <td>Gen</td>\n",
       "      <td>Genesis</td>\n",
       "      <td>1</td>\n",
       "    </tr>\n",
       "    <tr>\n",
       "      <td>2</td>\n",
       "      <td>Gen1:3</td>\n",
       "      <td>अनि परमेश्वरले भन्नुभयो, “उज्यालो होस्।” तब उज्यालो भयो। &lt;span class=\"note\" title=\"२ कोर ४:६\"&gt; (note) &lt;/span&gt;\\n</td>\n",
       "      <td>अनि परमेश्वरले भन्नुभयो, “उज्यालो होस्।” तब उज्यालो भयो।</td>\n",
       "      <td>3</td>\n",
       "      <td>(Gen, 1)</td>\n",
       "      <td>Gen</td>\n",
       "      <td>1</td>\n",
       "      <td>Gen</td>\n",
       "      <td>Genesis</td>\n",
       "      <td>1</td>\n",
       "    </tr>\n",
       "    <tr>\n",
       "      <td>3</td>\n",
       "      <td>Gen1:4</td>\n",
       "      <td>र परमेश्वरले उज्यालोलाई हेर्नुभयो, त्यो असल थियो। उहाँले उज्यालो र अँध्यारोलाई अलग-अलग गर्नुभयो।\\n</td>\n",
       "      <td>र परमेश्वरले उज्यालोलाई हेर्नुभयो, त्यो असल थियो। उहाँले उज्यालो र अँध्यारोलाई अलग-अलग गर्नुभयो।</td>\n",
       "      <td>4</td>\n",
       "      <td>(Gen, 1)</td>\n",
       "      <td>Gen</td>\n",
       "      <td>1</td>\n",
       "      <td>Gen</td>\n",
       "      <td>Genesis</td>\n",
       "      <td>1</td>\n",
       "    </tr>\n",
       "    <tr>\n",
       "      <td>4</td>\n",
       "      <td>Gen1:5</td>\n",
       "      <td>परमेश्वरले उज्यालोलाई “दिन” र अँध्यारोलाई “रात” भन्नुभयो। साँझ पर्यो र बिहान भयो— पहिलो दिन।\\n</td>\n",
       "      <td>परमेश्वरले उज्यालोलाई “दिन” र अँध्यारोलाई “रात” भन्नुभयो। साँझ पर्यो र बिहान भयो— पहिलो दिन।</td>\n",
       "      <td>5</td>\n",
       "      <td>(Gen, 1)</td>\n",
       "      <td>Gen</td>\n",
       "      <td>1</td>\n",
       "      <td>Gen</td>\n",
       "      <td>Genesis</td>\n",
       "      <td>1</td>\n",
       "    </tr>\n",
       "  </tbody>\n",
       "</table>\n",
       "</div>"
      ],
      "text/plain": [
       "  book_chapter_verse  \\\n",
       "0             Gen1:1   \n",
       "1             Gen1:2   \n",
       "2             Gen1:3   \n",
       "3             Gen1:4   \n",
       "4             Gen1:5   \n",
       "\n",
       "                                                                                                                verse_text  \\\n",
       "0                                            <H4>सृष्टिको वर्णन</H4>आदिमा परमेश्वरले आकाशमण्डल र पृथ्वी सृष्टि गर्नुभयो।\\n   \n",
       "1  पृथ्वी आकारविनाको र शून्य थियो। अथाह समुद्रमाथि अन्धकार थियो, र परमेश्वरका आत्मा पानीमाथि परिभ्रमण गर्दैरहनुहुन्थ्यो।\\n   \n",
       "2          अनि परमेश्वरले भन्नुभयो, “उज्यालो होस्।” तब उज्यालो भयो। <span class=\"note\" title=\"२ कोर ४:६\"> (note) </span>\\n   \n",
       "3                       र परमेश्वरले उज्यालोलाई हेर्नुभयो, त्यो असल थियो। उहाँले उज्यालो र अँध्यारोलाई अलग-अलग गर्नुभयो।\\n   \n",
       "4                           परमेश्वरले उज्यालोलाई “दिन” र अँध्यारोलाई “रात” भन्नुभयो। साँझ पर्यो र बिहान भयो— पहिलो दिन।\\n   \n",
       "\n",
       "                                                                                                      cleaned_verse_text  \\\n",
       "0                                                                   आदिमा परमेश्वरले आकाशमण्डल र पृथ्वी सृष्टि गर्नुभयो।   \n",
       "1  पृथ्वी आकारविनाको र शून्य थियो। अथाह समुद्रमाथि अन्धकार थियो, र परमेश्वरका आत्मा पानीमाथि परिभ्रमण गर्दैरहनुहुन्थ्यो।   \n",
       "2                                                              अनि परमेश्वरले भन्नुभयो, “उज्यालो होस्।” तब उज्यालो भयो।    \n",
       "3                       र परमेश्वरले उज्यालोलाई हेर्नुभयो, त्यो असल थियो। उहाँले उज्यालो र अँध्यारोलाई अलग-अलग गर्नुभयो।   \n",
       "4                           परमेश्वरले उज्यालोलाई “दिन” र अँध्यारोलाई “रात” भन्नुभयो। साँझ पर्यो र बिहान भयो— पहिलो दिन।   \n",
       "\n",
       "  verse book_chapter book chapter abbr_df_format full_book_name  index  \n",
       "0     1     (Gen, 1)  Gen       1            Gen        Genesis      1  \n",
       "1     2     (Gen, 1)  Gen       1            Gen        Genesis      1  \n",
       "2     3     (Gen, 1)  Gen       1            Gen        Genesis      1  \n",
       "3     4     (Gen, 1)  Gen       1            Gen        Genesis      1  \n",
       "4     5     (Gen, 1)  Gen       1            Gen        Genesis      1  "
      ]
     },
     "execution_count": 106,
     "metadata": {},
     "output_type": "execute_result"
    }
   ],
   "source": [
    "df.head(5)"
   ]
  },
  {
   "cell_type": "code",
   "execution_count": 140,
   "metadata": {},
   "outputs": [],
   "source": [
    "final_bible_df = df[['index', 'chapter', 'verse', 'cleaned_verse_text']]"
   ]
  },
  {
   "cell_type": "code",
   "execution_count": 141,
   "metadata": {},
   "outputs": [
    {
     "data": {
      "text/html": [
       "<div>\n",
       "<style scoped>\n",
       "    .dataframe tbody tr th:only-of-type {\n",
       "        vertical-align: middle;\n",
       "    }\n",
       "\n",
       "    .dataframe tbody tr th {\n",
       "        vertical-align: top;\n",
       "    }\n",
       "\n",
       "    .dataframe thead th {\n",
       "        text-align: right;\n",
       "    }\n",
       "</style>\n",
       "<table border=\"1\" class=\"dataframe\">\n",
       "  <thead>\n",
       "    <tr style=\"text-align: right;\">\n",
       "      <th></th>\n",
       "      <th>index</th>\n",
       "      <th>chapter</th>\n",
       "      <th>verse</th>\n",
       "      <th>cleaned_verse_text</th>\n",
       "    </tr>\n",
       "  </thead>\n",
       "  <tbody>\n",
       "    <tr>\n",
       "      <td>0</td>\n",
       "      <td>1</td>\n",
       "      <td>1</td>\n",
       "      <td>1</td>\n",
       "      <td>आदिमा परमेश्वरले आकाशमण्डल र पृथ्वी सृष्टि गर्नुभयो।</td>\n",
       "    </tr>\n",
       "    <tr>\n",
       "      <td>1</td>\n",
       "      <td>1</td>\n",
       "      <td>1</td>\n",
       "      <td>2</td>\n",
       "      <td>पृथ्वी आकारविनाको र शून्य थियो। अथाह समुद्रमाथि अन्धकार थियो, र परमेश्वरका आत्मा पानीमाथि परिभ्रमण गर्दैरहनुहुन्थ्यो।</td>\n",
       "    </tr>\n",
       "    <tr>\n",
       "      <td>2</td>\n",
       "      <td>1</td>\n",
       "      <td>1</td>\n",
       "      <td>3</td>\n",
       "      <td>अनि परमेश्वरले भन्नुभयो, “उज्यालो होस्।” तब उज्यालो भयो।</td>\n",
       "    </tr>\n",
       "  </tbody>\n",
       "</table>\n",
       "</div>"
      ],
      "text/plain": [
       "   index chapter verse  \\\n",
       "0      1       1     1   \n",
       "1      1       1     2   \n",
       "2      1       1     3   \n",
       "\n",
       "                                                                                                      cleaned_verse_text  \n",
       "0                                                                   आदिमा परमेश्वरले आकाशमण्डल र पृथ्वी सृष्टि गर्नुभयो।  \n",
       "1  पृथ्वी आकारविनाको र शून्य थियो। अथाह समुद्रमाथि अन्धकार थियो, र परमेश्वरका आत्मा पानीमाथि परिभ्रमण गर्दैरहनुहुन्थ्यो।  \n",
       "2                                                              अनि परमेश्वरले भन्नुभयो, “उज्यालो होस्।” तब उज्यालो भयो।   "
      ]
     },
     "execution_count": 141,
     "metadata": {},
     "output_type": "execute_result"
    }
   ],
   "source": [
    "final_bible_df.head(3)"
   ]
  },
  {
   "cell_type": "code",
   "execution_count": 156,
   "metadata": {},
   "outputs": [
    {
     "data": {
      "text/html": [
       "<div>\n",
       "<style scoped>\n",
       "    .dataframe tbody tr th:only-of-type {\n",
       "        vertical-align: middle;\n",
       "    }\n",
       "\n",
       "    .dataframe tbody tr th {\n",
       "        vertical-align: top;\n",
       "    }\n",
       "\n",
       "    .dataframe thead th {\n",
       "        text-align: right;\n",
       "    }\n",
       "</style>\n",
       "<table border=\"1\" class=\"dataframe\">\n",
       "  <thead>\n",
       "    <tr style=\"text-align: right;\">\n",
       "      <th></th>\n",
       "      <th>index</th>\n",
       "      <th>chapter</th>\n",
       "      <th>verse</th>\n",
       "      <th>cleaned_verse_text</th>\n",
       "    </tr>\n",
       "  </thead>\n",
       "  <tbody>\n",
       "    <tr>\n",
       "      <td>16395</td>\n",
       "      <td>19</td>\n",
       "      <td>150</td>\n",
       "      <td>﻿1</td>\n",
       "      <td>हल्लेलूयाह! परमप्रभुलाई उहाँको पवित्रस्थानमा प्रशंसा गर, उहाँको महिमामय आकाशमा उहाँको प्रशंसा गर!</td>\n",
       "    </tr>\n",
       "  </tbody>\n",
       "</table>\n",
       "</div>"
      ],
      "text/plain": [
       "       index  chapter verse  \\\n",
       "16395     19      150    ﻿1   \n",
       "\n",
       "                                                                                      cleaned_verse_text  \n",
       "16395  हल्लेलूयाह! परमप्रभुलाई उहाँको पवित्रस्थानमा प्रशंसा गर, उहाँको महिमामय आकाशमा उहाँको प्रशंसा गर!  "
      ]
     },
     "execution_count": 156,
     "metadata": {},
     "output_type": "execute_result"
    }
   ],
   "source": [
    "final_bible_df.loc[final_bible_df['verse'] == '\\ufeff1']"
   ]
  },
  {
   "cell_type": "code",
   "execution_count": 165,
   "metadata": {},
   "outputs": [
    {
     "data": {
      "text/html": [
       "<div>\n",
       "<style scoped>\n",
       "    .dataframe tbody tr th:only-of-type {\n",
       "        vertical-align: middle;\n",
       "    }\n",
       "\n",
       "    .dataframe tbody tr th {\n",
       "        vertical-align: top;\n",
       "    }\n",
       "\n",
       "    .dataframe thead th {\n",
       "        text-align: right;\n",
       "    }\n",
       "</style>\n",
       "<table border=\"1\" class=\"dataframe\">\n",
       "  <thead>\n",
       "    <tr style=\"text-align: right;\">\n",
       "      <th></th>\n",
       "      <th>index</th>\n",
       "      <th>chapter</th>\n",
       "      <th>verse</th>\n",
       "      <th>cleaned_verse_text</th>\n",
       "    </tr>\n",
       "  </thead>\n",
       "  <tbody>\n",
       "    <tr>\n",
       "      <td>16173</td>\n",
       "      <td>19</td>\n",
       "      <td>134</td>\n",
       "      <td>1</td>\n",
       "      <td>परमप्रभुका सबै सेवकहरू, परमप्रभुको प्रशंसा गर, तिमीहरू जो परमप्रभुको भवनमा राती उहाँको सेवा गर्दछौ।</td>\n",
       "    </tr>\n",
       "    <tr>\n",
       "      <td>16174</td>\n",
       "      <td>19</td>\n",
       "      <td>134</td>\n",
       "      <td>2</td>\n",
       "      <td>पवित्रस्थानमा आफ्ना हात उचाली, परमप्रभुको प्रशंसा गर।</td>\n",
       "    </tr>\n",
       "    <tr>\n",
       "      <td>16175</td>\n",
       "      <td>19</td>\n",
       "      <td>134</td>\n",
       "      <td>3</td>\n",
       "      <td>स्वर्ग र पृथ्वी सृष्टि गर्नुहुने परमप्रभुले तिमीलाई सियोनबाट आशीर्वाद देऊन्।</td>\n",
       "    </tr>\n",
       "  </tbody>\n",
       "</table>\n",
       "</div>"
      ],
      "text/plain": [
       "       index  chapter verse  \\\n",
       "16173     19      134     1   \n",
       "16174     19      134     2   \n",
       "16175     19      134     3   \n",
       "\n",
       "                                                                                        cleaned_verse_text  \n",
       "16173  परमप्रभुका सबै सेवकहरू, परमप्रभुको प्रशंसा गर, तिमीहरू जो परमप्रभुको भवनमा राती उहाँको सेवा गर्दछौ।  \n",
       "16174                                                पवित्रस्थानमा आफ्ना हात उचाली, परमप्रभुको प्रशंसा गर।  \n",
       "16175                         स्वर्ग र पृथ्वी सृष्टि गर्नुहुने परमप्रभुले तिमीलाई सियोनबाट आशीर्वाद देऊन्।  "
      ]
     },
     "execution_count": 165,
     "metadata": {},
     "output_type": "execute_result"
    }
   ],
   "source": [
    "final_bible_df.loc[(final_bible_df['index'] == 19) & (final_bible_df['chapter'] == 134)]"
   ]
  },
  {
   "cell_type": "code",
   "execution_count": null,
   "metadata": {},
   "outputs": [],
   "source": [
    "19,134,3,"
   ]
  },
  {
   "cell_type": "code",
   "execution_count": null,
   "metadata": {},
   "outputs": [],
   "source": []
  },
  {
   "cell_type": "code",
   "execution_count": null,
   "metadata": {},
   "outputs": [],
   "source": []
  },
  {
   "cell_type": "code",
   "execution_count": null,
   "metadata": {},
   "outputs": [],
   "source": []
  },
  {
   "cell_type": "code",
   "execution_count": 166,
   "metadata": {},
   "outputs": [],
   "source": [
    "final_bible_df.to_csv(\"bible_cleaned_formatted_01.csv\", index=False, header=False)"
   ]
  },
  {
   "cell_type": "code",
   "execution_count": 153,
   "metadata": {},
   "outputs": [
    {
     "data": {
      "text/plain": [
       "array(['1', '2', '3', '4', '5', '6', '7', '8', '9', '10', '11', '12',\n",
       "       '13', '14', '15', '16', '17', '18', '19', '20', '21', '22', '23',\n",
       "       '24', '25', '26', '27', '28', '29', '30', '31', '32', '33', '34',\n",
       "       '35', '36', '37', '38', '39', '40', '41', '42', '43', '44', '45',\n",
       "       '46', '47', '48', '49', '50', '51', '52', '53', '54', '55', '56',\n",
       "       '57', '58', '59', '60', '61', '62', '63', '64', '65', '66', '67',\n",
       "       '68', '69', '70', '71', '72', '73', '74', '75', '76', '77', '78',\n",
       "       '79', '80', '81', '82', '83', '84', '85', '86', '87', '88', '89',\n",
       "       '90', '91', '92', '93', '94', '95', '96', '97', '98', '99', '100',\n",
       "       '101', '102', '103', '104', '105', '106', '107', '108', '109',\n",
       "       '110', '111', '112', '113', '114', '115', '116', '117', '118',\n",
       "       '119', '120', '121', '122', '123', '124', '125', '126', '127',\n",
       "       '128', '129', '130', '131', '132', '133', '134', '135', '136',\n",
       "       '137', '138', '139', '140', '141', '142', '143', '144', '145',\n",
       "       '146', '147', '148', '149', '150', '151', '152', '153', '154',\n",
       "       '155', '156', '157', '158', '159', '160', '161', '162', '163',\n",
       "       '164', '165', '166', '167', '168', '169', '170', '171', '172',\n",
       "       '173', '174', '175', '176', '\\ufeff1'], dtype=object)"
      ]
     },
     "execution_count": 153,
     "metadata": {},
     "output_type": "execute_result"
    }
   ],
   "source": [
    "final_bible_df.verse.unique()"
   ]
  },
  {
   "cell_type": "code",
   "execution_count": 143,
   "metadata": {},
   "outputs": [
    {
     "name": "stderr",
     "output_type": "stream",
     "text": [
      "C:\\Users\\User\\Anaconda3\\envs\\gmcny_project\\lib\\site-packages\\ipykernel_launcher.py:1: SettingWithCopyWarning: \n",
      "A value is trying to be set on a copy of a slice from a DataFrame.\n",
      "Try using .loc[row_indexer,col_indexer] = value instead\n",
      "\n",
      "See the caveats in the documentation: http://pandas.pydata.org/pandas-docs/stable/user_guide/indexing.html#returning-a-view-versus-a-copy\n",
      "  \"\"\"Entry point for launching an IPython kernel.\n"
     ]
    }
   ],
   "source": [
    "final_bible_df['chapter'] = final_bible_df['chapter'].map(int)"
   ]
  },
  {
   "cell_type": "code",
   "execution_count": 144,
   "metadata": {},
   "outputs": [
    {
     "ename": "ValueError",
     "evalue": "invalid literal for int() with base 10: '\\ufeff1'",
     "output_type": "error",
     "traceback": [
      "\u001b[1;31m---------------------------------------------------------------------------\u001b[0m",
      "\u001b[1;31mValueError\u001b[0m                                Traceback (most recent call last)",
      "\u001b[1;32m<ipython-input-144-45f3411a180b>\u001b[0m in \u001b[0;36m<module>\u001b[1;34m\u001b[0m\n\u001b[1;32m----> 1\u001b[1;33m \u001b[0mfinal_bible_df\u001b[0m\u001b[1;33m[\u001b[0m\u001b[1;34m'verse'\u001b[0m\u001b[1;33m]\u001b[0m \u001b[1;33m=\u001b[0m \u001b[0mfinal_bible_df\u001b[0m\u001b[1;33m[\u001b[0m\u001b[1;34m'verse'\u001b[0m\u001b[1;33m]\u001b[0m\u001b[1;33m.\u001b[0m\u001b[0mmap\u001b[0m\u001b[1;33m(\u001b[0m\u001b[0mint\u001b[0m\u001b[1;33m)\u001b[0m\u001b[1;33m\u001b[0m\u001b[1;33m\u001b[0m\u001b[0m\n\u001b[0m",
      "\u001b[1;32m~\\Anaconda3\\envs\\gmcny_project\\lib\\site-packages\\pandas\\core\\series.py\u001b[0m in \u001b[0;36mmap\u001b[1;34m(self, arg, na_action)\u001b[0m\n\u001b[0;32m   3823\u001b[0m         \u001b[0mdtype\u001b[0m\u001b[1;33m:\u001b[0m \u001b[0mobject\u001b[0m\u001b[1;33m\u001b[0m\u001b[1;33m\u001b[0m\u001b[0m\n\u001b[0;32m   3824\u001b[0m         \"\"\"\n\u001b[1;32m-> 3825\u001b[1;33m         \u001b[0mnew_values\u001b[0m \u001b[1;33m=\u001b[0m \u001b[0msuper\u001b[0m\u001b[1;33m(\u001b[0m\u001b[1;33m)\u001b[0m\u001b[1;33m.\u001b[0m\u001b[0m_map_values\u001b[0m\u001b[1;33m(\u001b[0m\u001b[0marg\u001b[0m\u001b[1;33m,\u001b[0m \u001b[0mna_action\u001b[0m\u001b[1;33m=\u001b[0m\u001b[0mna_action\u001b[0m\u001b[1;33m)\u001b[0m\u001b[1;33m\u001b[0m\u001b[1;33m\u001b[0m\u001b[0m\n\u001b[0m\u001b[0;32m   3826\u001b[0m         \u001b[1;32mreturn\u001b[0m \u001b[0mself\u001b[0m\u001b[1;33m.\u001b[0m\u001b[0m_constructor\u001b[0m\u001b[1;33m(\u001b[0m\u001b[0mnew_values\u001b[0m\u001b[1;33m,\u001b[0m \u001b[0mindex\u001b[0m\u001b[1;33m=\u001b[0m\u001b[0mself\u001b[0m\u001b[1;33m.\u001b[0m\u001b[0mindex\u001b[0m\u001b[1;33m)\u001b[0m\u001b[1;33m.\u001b[0m\u001b[0m__finalize__\u001b[0m\u001b[1;33m(\u001b[0m\u001b[0mself\u001b[0m\u001b[1;33m)\u001b[0m\u001b[1;33m\u001b[0m\u001b[1;33m\u001b[0m\u001b[0m\n\u001b[0;32m   3827\u001b[0m \u001b[1;33m\u001b[0m\u001b[0m\n",
      "\u001b[1;32m~\\Anaconda3\\envs\\gmcny_project\\lib\\site-packages\\pandas\\core\\base.py\u001b[0m in \u001b[0;36m_map_values\u001b[1;34m(self, mapper, na_action)\u001b[0m\n\u001b[0;32m   1298\u001b[0m \u001b[1;33m\u001b[0m\u001b[0m\n\u001b[0;32m   1299\u001b[0m         \u001b[1;31m# mapper is a function\u001b[0m\u001b[1;33m\u001b[0m\u001b[1;33m\u001b[0m\u001b[1;33m\u001b[0m\u001b[0m\n\u001b[1;32m-> 1300\u001b[1;33m         \u001b[0mnew_values\u001b[0m \u001b[1;33m=\u001b[0m \u001b[0mmap_f\u001b[0m\u001b[1;33m(\u001b[0m\u001b[0mvalues\u001b[0m\u001b[1;33m,\u001b[0m \u001b[0mmapper\u001b[0m\u001b[1;33m)\u001b[0m\u001b[1;33m\u001b[0m\u001b[1;33m\u001b[0m\u001b[0m\n\u001b[0m\u001b[0;32m   1301\u001b[0m \u001b[1;33m\u001b[0m\u001b[0m\n\u001b[0;32m   1302\u001b[0m         \u001b[1;32mreturn\u001b[0m \u001b[0mnew_values\u001b[0m\u001b[1;33m\u001b[0m\u001b[1;33m\u001b[0m\u001b[0m\n",
      "\u001b[1;32mpandas\\_libs\\lib.pyx\u001b[0m in \u001b[0;36mpandas._libs.lib.map_infer\u001b[1;34m()\u001b[0m\n",
      "\u001b[1;31mValueError\u001b[0m: invalid literal for int() with base 10: '\\ufeff1'"
     ]
    }
   ],
   "source": [
    "final_bible_df['verse'] = final_bible_df['verse'].map(int)"
   ]
  },
  {
   "cell_type": "code",
   "execution_count": null,
   "metadata": {},
   "outputs": [],
   "source": []
  },
  {
   "cell_type": "code",
   "execution_count": null,
   "metadata": {},
   "outputs": [],
   "source": []
  },
  {
   "cell_type": "code",
   "execution_count": 83,
   "metadata": {},
   "outputs": [
    {
     "data": {
      "text/plain": [
       "array([[1, '1', '1',\n",
       "        'आदिमा परमेश्वरले आकाशमण्डल र पृथ्वी सृष्टि गर्नुभयो।'],\n",
       "       [1, '1', '2',\n",
       "        'पृथ्वी आकारविनाको र शून्य थियो। अथाह समुद्रमाथि अन्धकार थियो, र परमेश्वरका आत्मा पानीमाथि परिभ्रमण गर्दैरहनुहुन्थ्यो।'],\n",
       "       [1, '1', '3',\n",
       "        'अनि परमेश्वरले भन्नुभयो, “उज्यालो होस्।” तब उज्यालो भयो। '],\n",
       "       [1, '1', '4',\n",
       "        'र परमेश्वरले उज्यालोलाई हेर्नुभयो, त्यो असल थियो। उहाँले उज्यालो र अँध्यारोलाई अलग-अलग गर्नुभयो।'],\n",
       "       [1, '1', '5',\n",
       "        'परमेश्वरले उज्यालोलाई “दिन” र अँध्यारोलाई “रात” भन्नुभयो। साँझ पर्यो र बिहान भयो— पहिलो दिन।']],\n",
       "      dtype=object)"
      ]
     },
     "execution_count": 83,
     "metadata": {},
     "output_type": "execute_result"
    }
   ],
   "source": [
    "final_bible_df[:5].values"
   ]
  },
  {
   "cell_type": "code",
   "execution_count": 48,
   "metadata": {},
   "outputs": [],
   "source": [
    "# # save as csv\n",
    "# final_bible_df.to_csv(\"bible_cleaned_formatted.csv\", index=False, header=False)"
   ]
  },
  {
   "cell_type": "code",
   "execution_count": null,
   "metadata": {},
   "outputs": [],
   "source": []
  },
  {
   "cell_type": "code",
   "execution_count": null,
   "metadata": {},
   "outputs": [],
   "source": []
  },
  {
   "cell_type": "code",
   "execution_count": null,
   "metadata": {},
   "outputs": [],
   "source": []
  },
  {
   "cell_type": "code",
   "execution_count": null,
   "metadata": {},
   "outputs": [],
   "source": []
  }
 ],
 "metadata": {
  "kernelspec": {
   "display_name": "Python 3",
   "language": "python",
   "name": "python3"
  },
  "language_info": {
   "codemirror_mode": {
    "name": "ipython",
    "version": 3
   },
   "file_extension": ".py",
   "mimetype": "text/x-python",
   "name": "python",
   "nbconvert_exporter": "python",
   "pygments_lexer": "ipython3",
   "version": "3.7.1"
  }
 },
 "nbformat": 4,
 "nbformat_minor": 2
}
