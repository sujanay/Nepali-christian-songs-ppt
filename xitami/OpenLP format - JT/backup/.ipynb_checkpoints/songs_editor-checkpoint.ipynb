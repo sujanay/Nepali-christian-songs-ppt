{
 "cells": [
  {
   "cell_type": "code",
   "execution_count": 58,
   "metadata": {},
   "outputs": [],
   "source": [
    "import os\n",
    "import re\n",
    "import shutil"
   ]
  },
  {
   "cell_type": "code",
   "execution_count": 59,
   "metadata": {},
   "outputs": [],
   "source": [
    "def read_lines_from_text_file(filename):\n",
    "    \"\"\"\n",
    "    Reads all the lines from a file and the lines.\n",
    "    \n",
    "    Parameters\n",
    "    ----------\n",
    "    filename: str\n",
    "        Name of the file you want to open.\n",
    "        \n",
    "    Returns\n",
    "    -------\n",
    "    lines: list\n",
    "        List of lines read from the file with specified `filename`.\n",
    "    \"\"\"\n",
    "    try:\n",
    "        with open(song_name, 'r', encoding='utf8') as f:\n",
    "            lines = f.readlines()\n",
    "        \n",
    "        return lines\n",
    "    except:\n",
    "        print(\"Error opening file \", filename)"
   ]
  },
  {
   "cell_type": "code",
   "execution_count": 60,
   "metadata": {},
   "outputs": [],
   "source": [
    "def get_tags_loc_from_text_file(lines):\n",
    "    \"\"\"\n",
    "    Extract different tags from lines.\n",
    "    \n",
    "    Parameters\n",
    "    ----------\n",
    "    lines: list\n",
    "        List of lines read from the file.\n",
    "        \n",
    "    Returns\n",
    "    -------\n",
    "    tags_tracker: list\n",
    "        List of tags with line number.\n",
    "    \"\"\"\n",
    "    tags_tracker = []\n",
    "    for i in range(len(lines)):\n",
    "        tmp_dict = {}\n",
    "        if lines[i].startswith(\"~Verse\") or lines[i].startswith(\"~Chorus\"):\n",
    "            tmp_dict[lines[i][1:-1]] = i\n",
    "            tags_tracker.append(tmp_dict)\n",
    "\n",
    "        if lines[i].startswith(\"<hr>\") or lines[i].startswith(\"<HR>\"):\n",
    "            tmp_dict[lines[i][:4]] = i\n",
    "            tags_tracker.append(tmp_dict)\n",
    "\n",
    "        if lines[i].startswith(\"~Info\") or lines[i].startswith(\"~info\"):\n",
    "            tmp_dict[lines[i][1:-1]] = i\n",
    "            tags_tracker.append(tmp_dict)\n",
    "            \n",
    "    return tags_tracker"
   ]
  },
  {
   "cell_type": "code",
   "execution_count": 63,
   "metadata": {},
   "outputs": [
    {
     "name": "stdout",
     "output_type": "stream",
     "text": [
      "B001 - Halleluyaah Hosannaa.txt\n",
      "[{'Chorus:': 4}, {'<hr>': 6}, {'Verse 1:': 9}, {'<hr>': 14}, {'Verse 2:': 20}, {'<hr>': 25}, {'Verse 3:': 31}, {'<HR>': 36}, {'Verse 4:': 42}, {'<HR>': 47}, {'Verse 5:': 53}, {'<HR>': 58}, {'Verse 6:': 64}, {'<HR>': 69}, {'Info:': 75}, {'<HR>': 79}]\n",
      "B002 - Mahaan Sristi-kartaa (To God Be The Glory).txt\n",
      "[{'Verse 1:': 4}, {'<HR>': 9}, {'Chorus:': 15}, {'<HR>': 20}, {'Chorus1a:': 26}, {'<HR>': 31}, {'Verse 2:': 37}, {'<HR>': 42}, {'Verse 3:': 48}, {'<HR>': 53}, {'Info:': 59}, {'<HR>': 63}]\n"
     ]
    }
   ],
   "source": [
    "for song_name in os.listdir(\".\")[1:3]:\n",
    "    print(song_name)\n",
    "    if song_name.endswith(\".txt\"):\n",
    "        lines = read_lines_from_text_file(filename=song_name)\n",
    "        tags_list = get_tags_loc_from_text_file(lines)\n",
    "                \n",
    "        print(tags_list)"
   ]
  },
  {
   "cell_type": "code",
   "execution_count": null,
   "metadata": {},
   "outputs": [],
   "source": []
  },
  {
   "cell_type": "code",
   "execution_count": null,
   "metadata": {},
   "outputs": [],
   "source": []
  },
  {
   "cell_type": "code",
   "execution_count": null,
   "metadata": {},
   "outputs": [],
   "source": []
  },
  {
   "cell_type": "code",
   "execution_count": null,
   "metadata": {},
   "outputs": [],
   "source": []
  },
  {
   "cell_type": "code",
   "execution_count": null,
   "metadata": {},
   "outputs": [],
   "source": []
  },
  {
   "cell_type": "code",
   "execution_count": null,
   "metadata": {},
   "outputs": [],
   "source": []
  }
 ],
 "metadata": {
  "kernelspec": {
   "display_name": "Python 3",
   "language": "python",
   "name": "python3"
  },
  "language_info": {
   "codemirror_mode": {
    "name": "ipython",
    "version": 3
   },
   "file_extension": ".py",
   "mimetype": "text/x-python",
   "name": "python",
   "nbconvert_exporter": "python",
   "pygments_lexer": "ipython3",
   "version": "3.7.1"
  }
 },
 "nbformat": 4,
 "nbformat_minor": 2
}
